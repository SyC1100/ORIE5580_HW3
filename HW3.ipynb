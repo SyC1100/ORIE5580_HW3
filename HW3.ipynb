{
  "cells": [
    {
      "cell_type": "markdown",
      "metadata": {
        "id": "KdHI8a1S9iUn"
      },
      "source": [
        "# ORIE 4580/5580/5581 Assignment 3\n",
        "\n",
        "#### Students: Shiyu Chen (sc3283) and Mingyi Yao (my533)\n",
        "\n",
        "### Github link: [example Github link](https://github.com/SidBanerjee/ORIE4580-Simulation/blob/main/Notebooks/Unit0-Intro_Demos.ipynb)\n"
      ]
    },
    {
      "cell_type": "markdown",
      "source": [
        "### Instructions\n",
        "\n",
        "\n",
        "* Due Friday September 22, at 11.59am on Gradescope.\n",
        "* Assignment .ipynb files available for download on [Canvas](https://canvas.cornell.edu/courses/56826#:~:text=Assignments-,Assignments,-Assignments%20Module%20publish). Do all your work in provided notebook (text answers typeset in markdown; show all required code and generate plots inline), and then generate and submit a pdf.\n",
        "* Ideally do assignments in groups of 2, and submit a single pdf with both names\n",
        "* Please show your work and clearly mark your answers.\n",
        "* You can use any code fragments given in class, found online (for example, on StackOverflow), or generated via Bard or ChatGPT (you are encouraged to use these for first drafts) **with proper referencing**. You can also discuss with others (again, please reference them if you do so); but you must write your final answers on your own as a team.\n",
        "\n",
        "\n",
        "\n",
        "### Suggested reading\n",
        "\n",
        "Chapters 7 (you can skim through this), and chapters 8 and 9 of [Introduction to Probability](https://chance.dartmouth.edu/teaching_aids/books_articles/probability_book/book.html) by Grinstead and Snell.\n",
        "\n",
        "Chapter 3 and chapter 4 (up to section 4.5) of [Simulation by Ross](https://catalog.library.cornell.edu/catalog/12745977)."
      ],
      "metadata": {
        "id": "SWIW16cwI0bB"
      }
    },
    {
      "cell_type": "code",
      "source": [
        "#importing necessary packages\n",
        "import numpy as np\n",
        "import matplotlib.pyplot as plt\n",
        "import scipy.stats\n",
        "import math\n",
        "%matplotlib inline"
      ],
      "metadata": {
        "id": "upFYbOmHI4Uv"
      },
      "execution_count": 1,
      "outputs": []
    },
    {
      "cell_type": "markdown",
      "metadata": {
        "id": "lAy475sN9iUs"
      },
      "source": [
        "___\n",
        "___\n",
        "\n",
        "## Question 1: Combining LCGs (20 points)\n",
        "\n",
        "In order to avoid biases, simulations should not use anywhere near the full period of an LCG (otherwise, the random sequence repeats\\ldots). For example, a typical traffic simulator may have $10,000$ vehicles, each experiencing thousands of random disturbances, thus needing around $10^7$ random samples per replication -- for this, an LCG using $m=2^{31}-1\\approx 2\\times 10^9$ is insufficient, as after $100$ replications the sequences get correlated.\n",
        "\n",
        "One method to combine multiple LCGs to obtain a generator with a longer period is to add a smaller period LCG to it. For example, suppose we have two generators $X_{n+1}  =  (a_1 X_n) { mod } m_1$ and $Y_{n+1}  =  (a_2 Y_n) { mod } m_2$, with $m_1>m_2$. We can derive a combined generator by setting $Z_n  =  (X_n + Y_n) { mod } m_1$. If properly designed, the resulting period can be on the order of $m_1m_2$. We will now study a small example to see how this works.\n"
      ]
    },
    {
      "cell_type": "markdown",
      "source": [
        "## Linear Congruential Generators\n",
        "\n",
        "A more useful method to generate pseudorandom numbers is via *linear congruential generators*. To study this, we first write a function to generate pseudorandom numbers $(u_1,u_2,\\ldots)$ according to the following rule: we start with a *seed* $x_0$, and then we generate the $n^{th}$ sample $u_n$ using the following update rule\n",
        "\\begin{align*}\n",
        "    u_n &= \\frac{x_n+1}{m+1} \\\\\n",
        "\tx_{n+1}  &=  (ax_n + c) \\mbox{ mod }  m\n",
        "\\end{align*}\n",
        "Note: This returns $u_i\\in\\left\\{\\frac{1}{m+1},\\frac{2}{m+1},\\ldots,\\frac{m}{m+1}\\right\\}$. If instead we use  $u_n = \\frac{x_n}{m}$, then we get $u_i\\in\\left\\{0,\\frac{1}{m},\\frac{2}{m},\\ldots,\\frac{m-1}{m}\\right\\}$\n",
        "\n",
        "Inputs: Length $n$, modulus $m$, multiplier $a$, increment $c$, seed $x_0$"
      ],
      "metadata": {
        "id": "SfJ0OPYUGrs8"
      }
    },
    {
      "cell_type": "markdown",
      "metadata": {
        "id": "-geWMEJp9iUt"
      },
      "source": [
        "___\n",
        "**(a)** Consider two LCGs, $x_{n+1} = (5 x_n) \\mod 16$ and $y_{n+1} = (2 y_n) \\mod 7$. Starting both with seed $x_0 = y_0 = 1$, plot the sequences $x_n, y_n$ using the clock visualization introduced in class (separate plot for each sequence; you can use and modify the code in Demo-PRNGs.ipynb on Canvas).\n",
        "___"
      ]
    },
    {
      "cell_type": "code",
      "execution_count": null,
      "metadata": {
        "id": "5jsoc-t6D-Q7"
      },
      "outputs": [],
      "source": [
        "# Functions to visualize LCG sequence on clock (see demo notebook)\n",
        "def plot_clock_face(m, fig, annotate=False):\n",
        "    \"\"\"\n",
        "    Plot points on a unit circle representing the LCG sequence on a clock face.\n",
        "\n",
        "    Parameters:\n",
        "    m (int): The modulus value for the LCG sequence.\n",
        "    fig (matplotlib.figure.Figure): The figure object to draw on.\n",
        "    annotate (bool): Whether to annotate points with their index.\n",
        "    Returns:\n",
        "    None\n",
        "    \"\"\"\n",
        "    # Plot m points on the unit circle\n",
        "    for i in range(m):\n",
        "        theta = 2.0 * np.pi * i / m\n",
        "        plt.plot(np.sin(theta), np.cos(theta), 'rs', markersize = 10)\n",
        "        if annotate:\n",
        "            plt.annotate(str(i), (np.pi/2 - theta, 1.05), xycoords='polar')\n",
        "\n",
        "def plot_clock_path(m, x, fig, color='y'):\n",
        "    \"\"\"\n",
        "    Plot the path of an LCG sequence on a clock face.\n",
        "\n",
        "    Parameters:\n",
        "    m (int): The modulus value for the LCG sequence.\n",
        "    x (numpy.ndarray): The LCG sequence.\n",
        "    fig (matplotlib.figure.Figure): The figure object to draw on.\n",
        "    color (str): The color for the path.\n",
        "\n",
        "    Returns:\n",
        "    None\n",
        "    \"\"\"\n",
        "    # Plot the seed node\n",
        "    theta_0 = 2.0 * np.pi * (x[0] * (m + 1) - 1) / m\n",
        "    plt.plot(np.sin(theta_0), np.cos(theta_0), 'gs', markersize = 10)\n",
        "\n",
        "    # Plot the path of the LCG sequence\n",
        "    for i in range(len(x) - 1):\n",
        "        theta_start = 2.0 * np.pi * (x[i] * (m + 1) - 1) / m\n",
        "        theta_end = 2.0 * np.pi * (x[i + 1] * (m + 1) - 1) / m\n",
        "        x_start = np.sin(theta_start)\n",
        "        y_start = np.cos(theta_start)\n",
        "        del_x = np.sin(theta_end) - np.sin(theta_start)\n",
        "        del_y = np.cos(theta_end) - np.cos(theta_start)\n",
        "        if abs(del_x) > 0 or abs(del_y) > 0:\n",
        "            plt.arrow(x_start, y_start, del_x, del_y,\n",
        "                      length_includes_head=True, head_width=0.05, head_length=0.1, fc=color, ec=color)\n",
        "\n"
      ]
    },
    {
      "cell_type": "code",
      "execution_count": null,
      "metadata": {
        "id": "GRvFbLtFEC16"
      },
      "outputs": [],
      "source": [
        "# Function to generate pseudorandom sequence using LCG\n",
        "# Set default parameters to glibc specifications (see demo notebook)\n",
        "def LCG(n, m=2**31-1, a=1103515245, c=12345, seed=1):\n",
        "    \"\"\"\n",
        "    Generate a pseudorandom sequence using a Linear Congruential Generator (LCG).\n",
        "\n",
        "    Parameters:\n",
        "    n (int): The number of pseudorandom numbers to generate.\n",
        "    m (int): The modulus value (default is 2^31-1, following glibc specifications).\n",
        "    a (int): The multiplier value (default is 1103515245, following glibc specifications).\n",
        "    c (int): The increment value (default is 12345, following glibc specifications).\n",
        "    seed (int): The initial seed value (default is 1).\n",
        "\n",
        "    Returns:\n",
        "    numpy.ndarray: An array of pseudorandom numbers in the range [0, 1).\n",
        "    \"\"\"\n",
        "    # Initialize an array to store the generated pseudorandom numbers\n",
        "    output = np.zeros(n)\n",
        "\n",
        "    x = seed\n",
        "    for i in range(n):\n",
        "        # Calculate the pseudorandom number\n",
        "        output[i] = x+1\n",
        "\n",
        "        # Update the LCG state using the specified parameters\n",
        "        x = (a * x + c) % m\n",
        "\n",
        "    return output\n"
      ]
    },
    {
      "cell_type": "code",
      "execution_count": null,
      "metadata": {
        "id": "b2hOTeOyEEkI",
        "colab": {
          "base_uri": "https://localhost:8080/",
          "height": 424
        },
        "outputId": "5d1f7837-8cf1-42dd-d2db-e949159caa47"
      },
      "outputs": [
        {
          "output_type": "display_data",
          "data": {
            "text/plain": [
              "<Figure size 500x500 with 1 Axes>"
            ],
            "image/png": "[encoded data removed]"
          },
          "metadata": {}
        }
      ],
      "source": [
        "# Ans\n",
        "# For X\n",
        "m = 16\n",
        "a = 5\n",
        "c = 0\n",
        "seed = 1\n",
        "\n",
        "fig = plt.figure(figsize=(5,5))\n",
        "x = LCG(n=m+1,m=m,a=a,c=0,seed = seed)\n",
        "\n",
        "plot_clock_face(m,fig,annotate = True)\n",
        "plot_clock_path(m,x,fig)\n",
        "#plt.axis('equal')\n",
        "plt.axis('off')\n",
        "plt.show()"
      ]
    },
    {
      "cell_type": "code",
      "source": [
        "# For Y\n",
        "m = 7\n",
        "a = 2\n",
        "c = 0\n",
        "seed = 1\n",
        "\n",
        "fig = plt.figure(figsize=(5,5))\n",
        "y = LCG(n=m+1,m=m,a=a,c=c,seed = seed)\n",
        "\n",
        "plot_clock_face(m,fig,annotate = True)\n",
        "plot_clock_path(m,y,fig)\n",
        "#plt.axis('equal')\n",
        "plt.axis('off')\n",
        "plt.show()"
      ],
      "metadata": {
        "colab": {
          "base_uri": "https://localhost:8080/",
          "height": 424
        },
        "id": "0oZODYqpFGzc",
        "outputId": "9dda0aed-282d-4d8a-9d35-8a7c17386e1d"
      },
      "execution_count": null,
      "outputs": [
        {
          "output_type": "display_data",
          "data": {
            "text/plain": [
              "<Figure size 500x500 with 1 Axes>"
            ],
            "image/png": "[encoded data removed]"
          },
          "metadata": {}
        }
      ]
    },
    {
      "cell_type": "markdown",
      "metadata": {
        "id": "FDfX7mQz9iUv"
      },
      "source": [
        "___\n",
        "**(b)** Next, define a combined LCG as $z_{n} = (x_n+y_n) \\mod 16$. Starting both the base LCGs with seed $x_0 = y_0 = 1$, plot the sequence $z_n$ using the clock visualization given in class.\n",
        "___"
      ]
    },
    {
      "cell_type": "code",
      "execution_count": null,
      "metadata": {
        "id": "pLwpyLwZEIHk"
      },
      "outputs": [],
      "source": [
        "# Function to generate pseudorandom sequence using LCG\n",
        "# Set default parameters to glibc specifications (see demo notebook)\n",
        "def LCG_combined(n, m_x=2**31-1, m_y=2**31-1, m_z=2**31-1, a_x=1103515245, a_y=1103515245, seed=1):\n",
        "    \"\"\"\n",
        "    Generate a pseudorandom sequence using a Linear Congruential Generator (LCG).\n",
        "\n",
        "    Parameters:\n",
        "    n (int): The number of pseudorandom numbers to generate.\n",
        "    m (int): The modulus value (default is 2^31-1, following glibc specifications).\n",
        "    a (int): The multiplier value (default is 1103515245, following glibc specifications).\n",
        "    c (int): The increment value (default is 12345, following glibc specifications).\n",
        "    seed (int): The initial seed value (default is 1).\n",
        "\n",
        "    Returns:\n",
        "    numpy.ndarray: An array of pseudorandom numbers in the range [0, 1).\n",
        "    \"\"\"\n",
        "    # Initialize an array to store the generated pseudorandom numbers\n",
        "    output = np.zeros(n)\n",
        "\n",
        "    x = seed\n",
        "    y = seed\n",
        "    z = seed\n",
        "    for i in range(n):\n",
        "        # Calculate the pseudorandom number\n",
        "        output[i] = (x + y + 1) % m_z\n",
        "\n",
        "        # Update the LCG state using the specified parameters\n",
        "        x = (a_x * x) % m_x\n",
        "        y = (a_y * y) % m_y\n",
        "\n",
        "\n",
        "    return output\n"
      ]
    },
    {
      "cell_type": "code",
      "source": [
        "# For Z\n",
        "m_x = 16\n",
        "a_x = 5\n",
        "m_y = 7\n",
        "a_y = 2\n",
        "m_z = 16\n",
        "seed = 1\n",
        "\n",
        "fig = plt.figure(figsize=(5,5))\n",
        "z = LCG_combined(n=m_z+1,m_x=m_x,a_x=a_x,m_y=m_y,a_y=a_y,m_z=m_z,seed = seed)\n",
        "\n",
        "plot_clock_face(m_z,fig,annotate = True)\n",
        "plot_clock_path(m_z,z,fig)\n",
        "#plt.axis('equal')\n",
        "plt.axis('off')\n",
        "plt.show()"
      ],
      "metadata": {
        "colab": {
          "base_uri": "https://localhost:8080/",
          "height": 424
        },
        "id": "3Uf-pXilJM2t",
        "outputId": "4ae2cd6c-04ac-4793-a7e1-9488f644d5f9"
      },
      "execution_count": null,
      "outputs": [
        {
          "output_type": "display_data",
          "data": {
            "text/plain": [
              "<Figure size 500x500 with 1 Axes>"
            ],
            "image/png": "[encoded data removed]"
          },
          "metadata": {}
        }
      ]
    },
    {
      "cell_type": "markdown",
      "metadata": {
        "id": "W7FAnv8z9iUx"
      },
      "source": [
        "___\n",
        "**(c)** What are the periods of the pseudo-random sequences $x_n, y_n$ and $z_n$?\n",
        "___"
      ]
    },
    {
      "cell_type": "markdown",
      "source": [
        "### Ans.\n",
        "\n",
        "From the clock path plot of $x_n$, $y_n$ and $z_n$, we can obtain their periods:\n",
        "\n",
        "for $x_n$, it has peiod 4\n",
        "\n",
        "for $y_n$, it has peiod 3\n",
        "\n",
        "for $z_n$, it has peiod 12"
      ],
      "metadata": {
        "id": "XAWLfsGGMO7X"
      }
    },
    {
      "cell_type": "markdown",
      "metadata": {
        "id": "wmL74RyC9iUz"
      },
      "source": [
        "___\n",
        "___\n",
        "## Question 2: inverting cdfs (25 pts)\n",
        "\n",
        "In class, we defined $F^{-1}(y)$ for a continuous increasing cdf $F(x)$ as the unique $x$ such that $F(x) = y$ (for $y\\in[0,1]$). More generally, for any cdf $F$ we can use the inversion method based on its generalized inverse or *pseudoinverse*:\n",
        "\t$$F^{-1}(y) = \\inf\\{x|F(x)\\geq y\\}$$\n",
        "\t(where $\\inf$ denotes the \\href{https://en.wikipedia.org/wiki/Infimum_and_supremum}{infimum}; if you have not seen this before, treat it as minimum).\n"
      ]
    },
    {
      "cell_type": "markdown",
      "metadata": {
        "id": "k8gt9TWM9iU0"
      },
      "source": [
        "___\n",
        "**(a)** Find the pseudoinverse $F^{-1}(y)$ for the following mixed (discrete/continuous) cdf\n",
        "\t$$F(x)=\n",
        "\t\\begin{cases}\n",
        "\t0 & \\mbox{for $x < 0$}\\\\\n",
        "\tx & \\mbox{for $0 \\leq x < \\frac{1}{2}$}, \\\\\n",
        "\t\\frac{1}{2} & \\mbox{for $\\frac{1}{2}\\leq x < 1$}, \\\\\n",
        "\t1 & \\mbox{for $x\\geq 1$}\n",
        "\t \\end{cases}$$\n",
        "___"
      ]
    },
    {
      "cell_type": "markdown",
      "source": [
        "### Ans.\n",
        "\n",
        "$F'(y)=\n",
        "\t\\begin{cases}\n",
        "\t0 & \\mbox{for $y = 0$},\\\\\n",
        "\ty & \\mbox{for $0 \\leq y < \\frac{1}{2}$}, \\\\\n",
        "\t1 & \\mbox{for $y > \\frac{1}{2}$}\n",
        "\t \\end{cases}$"
      ],
      "metadata": {
        "id": "h4Vtj9TBMr6A"
      }
    },
    {
      "cell_type": "markdown",
      "metadata": {
        "id": "z5IrvAkx9iU1"
      },
      "source": [
        "___\n",
        "**(b)** Use the above definition to get an inversion algorithm for the $Geometric(p)$ distribution (with pmf $p(k) = p(1-p)^{k-1}\\,\\forall\\,k\\in\\{1,2,3,\\ldots\\}$). Implement this, and generate and plot the histogram of 1000 samples from a $Geometric(0.42)$ distribution.\n",
        "(For this, it may be useful for you to first understand how the [scipy.stats](https://docs.scipy.org/doc/scipy/reference/stats.html) library works, and in particular, how it provides methods to compute various statistics for many different random variables, including the [geometric r.v.](https://docs.scipy.org/doc/scipy/reference/generated/scipy.stats.geom.html#scipy.stats.geom))\n",
        "___"
      ]
    },
    {
      "cell_type": "markdown",
      "source": [
        "Firstly, find the cdf of Geometric distribution. \\\\\n",
        "$F(k)=\\sum_{i=1}^k p(i)= \\sum_{i=1}^k p(1-p)^{i-1}= 1-(1-p)^k$ \\\\\n",
        "\n",
        "Then, equate u with cdf function and obtain: \\\\\n",
        "$k = \\frac{log(1-u)}{log(1-p)}$ \\\\\n",
        "Next, we need to first generate 1000 uniform distributed random variable u,\n",
        "then, we plug the value of u into the equation."
      ],
      "metadata": {
        "id": "UT91KUqkeWiY"
      }
    },
    {
      "cell_type": "code",
      "execution_count": null,
      "metadata": {
        "id": "JQIulHgEJrwz",
        "colab": {
          "base_uri": "https://localhost:8080/",
          "height": 555
        },
        "outputId": "9a3ce272-ba67-459f-a1b2-d91efbc71c64"
      },
      "outputs": [
        {
          "output_type": "execute_result",
          "data": {
            "text/plain": [
              "(array([422.,   0., 261.,   0.,   0., 133.,   0.,  89.,   0.,   0.,  45.,\n",
              "          0.,  20.,   0.,   0.,  10.,   0.,   7.,   0.,   0.,   5.,   0.,\n",
              "          3.,   0.,   0.,   3.,   0.,   0.,   0.,   2.]),\n",
              " array([ 1. ,  1.4,  1.8,  2.2,  2.6,  3. ,  3.4,  3.8,  4.2,  4.6,  5. ,\n",
              "         5.4,  5.8,  6.2,  6.6,  7. ,  7.4,  7.8,  8.2,  8.6,  9. ,  9.4,\n",
              "         9.8, 10.2, 10.6, 11. , 11.4, 11.8, 12.2, 12.6, 13. ]),\n",
              " <BarContainer object of 30 artists>)"
            ]
          },
          "metadata": {},
          "execution_count": 28
        },
        {
          "output_type": "display_data",
          "data": {
            "text/plain": [
              "<Figure size 640x480 with 1 Axes>"
            ],
            "image/png": "[encoded data removed]"
          },
          "metadata": {}
        }
      ],
      "source": [
        "p = 0.42\n",
        "U = np.random.rand(1000)  # Generate uniform random variables\n",
        "k = np.ceil(np.log(1 - U) / np.log(1 - p))\n",
        "plt.hist(k, bins = 'auto')"
      ]
    },
    {
      "cell_type": "markdown",
      "metadata": {
        "id": "TRn55xOT9iU3"
      },
      "source": [
        "___\n",
        "**(c)** The p.d.f. of the random variable $X$ is given by\n",
        "\t$$\n",
        "\tf(x) =\n",
        "\t\\begin{cases}\n",
        "\t\te^{x-2} & \\text{for }0 \\leq x \\leq 2, \\\\\n",
        "\t\te^{-x} & \\text{for }x > 2, \\\\\n",
        "\t\t0 & \\text{otherwise,}\n",
        "\t\\end{cases}\n",
        "\t$$\n",
        "\tDescribe and implement an inversion algorithm to generate samples of $X$. Generate 1,000 samples and plot a histogram. Compare the histogram and the p.d.f.\n"
      ]
    },
    {
      "cell_type": "markdown",
      "source": [
        "___\n",
        "\n",
        "### Ans."
      ],
      "metadata": {
        "id": "dNmGPdu8OaiK"
      }
    },
    {
      "cell_type": "markdown",
      "source": [
        "Firstly, calculate the cdf of f(x), which is\n",
        "\n",
        "$F(x) =\n",
        "\t\\begin{cases}\n",
        "\t\te^{x-2}-e^{-2} & \\text{for }0 \\leq x \\leq 2, \\\\\n",
        "\t\t1- e^{-x} & \\text{for }x > 2\n",
        "\t\\end{cases}$"
      ],
      "metadata": {
        "id": "20zEBlRSaaNR"
      }
    },
    {
      "cell_type": "code",
      "execution_count": null,
      "metadata": {
        "id": "2bF1VUkGJEpI",
        "colab": {
          "base_uri": "https://localhost:8080/",
          "height": 716
        },
        "outputId": "6c6cdd47-4a50-4ef6-9da4-ebfa53f7975e"
      },
      "outputs": [
        {
          "output_type": "execute_result",
          "data": {
            "text/plain": [
              "(array([ 24.,  27.,  26.,  32.,  47.,  50.,  49.,  59.,  93.,  94., 120.,\n",
              "        133., 125.,  19.,  15.,  12.,   9.,  11.,   7.,   9.,   7.,   7.,\n",
              "          2.,   3.,   1.,   5.,   1.,   3.,   1.,   1.,   0.,   1.,   1.,\n",
              "          1.,   1.,   0.,   0.,   1.,   0.,   0.,   1.,   0.,   2.]),\n",
              " array([1.08611815e-03, 1.57087078e-01, 3.13088037e-01, 4.69088997e-01,\n",
              "        6.25089956e-01, 7.81090916e-01, 9.37091875e-01, 1.09309283e+00,\n",
              "        1.24909379e+00, 1.40509475e+00, 1.56109571e+00, 1.71709667e+00,\n",
              "        1.87309763e+00, 2.02909859e+00, 2.18509955e+00, 2.34110051e+00,\n",
              "        2.49710147e+00, 2.65310243e+00, 2.80910339e+00, 2.96510435e+00,\n",
              "        3.12110531e+00, 3.27710627e+00, 3.43310723e+00, 3.58910819e+00,\n",
              "        3.74510915e+00, 3.90111011e+00, 4.05711107e+00, 4.21311203e+00,\n",
              "        4.36911299e+00, 4.52511394e+00, 4.68111490e+00, 4.83711586e+00,\n",
              "        4.99311682e+00, 5.14911778e+00, 5.30511874e+00, 5.46111970e+00,\n",
              "        5.61712066e+00, 5.77312162e+00, 5.92912258e+00, 6.08512354e+00,\n",
              "        6.24112450e+00, 6.39712546e+00, 6.55312642e+00, 6.70912738e+00]),\n",
              " <BarContainer object of 43 artists>)"
            ]
          },
          "metadata": {},
          "execution_count": 27
        },
        {
          "output_type": "display_data",
          "data": {
            "text/plain": [
              "<Figure size 640x480 with 1 Axes>"
            ],
            "image/png": "[encoded data removed]"
          },
          "metadata": {}
        }
      ],
      "source": [
        "U = np.random.rand(1000)\n",
        "x = np.zeros(1000)\n",
        "for i in range(len(U)):\n",
        "  if U[i] > 1 - (math.exp(-2)):\n",
        "    x[i] = math.log(1/(1 - U[i]))\n",
        "  else:\n",
        "    x[i] = 2 + math.log(math.exp(-2) + U[i])\n",
        "plt.hist(x, bins='auto')"
      ]
    },
    {
      "cell_type": "markdown",
      "metadata": {
        "id": "UqMEV_6i9iU4"
      },
      "source": [
        "___\n",
        "___\n",
        "\n",
        "## Question 3: Acceptance-Rejection (25 pts)\n",
        "\n",
        "Let the random variable $X$ have density\n",
        "$$f(x) = \\begin{cases} (5 x^4 + 4x^3 + 3x^2+1)/4  & \\text{ for } 0 \\leq x \\leq 1, \\\\\n",
        "0 & \\text{ otherwise. } \\end{cases}$$"
      ]
    },
    {
      "cell_type": "markdown",
      "metadata": {
        "id": "dNp6yFaQ9iU5"
      },
      "source": [
        "___\n",
        "**(a)** Give an acceptance-rejection algorithm to generate samples of\n",
        "\t$X$.\n",
        "\n",
        "___"
      ]
    },
    {
      "cell_type": "markdown",
      "metadata": {
        "id": "AKnYl0kLLd37"
      },
      "source": [
        "### Ans.\n"
      ]
    },
    {
      "cell_type": "markdown",
      "source": [
        "Since this is a bound region (within inerval [0,1]). Thus, we can use the rectangle method. Firstly, find M, the maximum value during that region is $\\frac{13}{4}$. Then our strategy is: \\\\\n",
        "\n",
        "1: generae uniformly distributed variable, $U_{1}$ and $U_{2}$. \\\\\n",
        "2: set $Z_{1} = 0+(1-0)*U_{1}$ and $Z_{2} = M*U_{2}$. \\\\\n",
        "3: if $Z_{2} \\leq f(Z_{1})$, then, return $X_{0} = Z_{1}$; else, reject and repeat."
      ],
      "metadata": {
        "id": "Tq4m6Eehlf0F"
      }
    },
    {
      "cell_type": "code",
      "execution_count": null,
      "metadata": {
        "id": "y1c8ExQxLdEB"
      },
      "outputs": [],
      "source": [
        "def ar_generator(m):\n",
        "  U1, U2 = np.random.rand(2)\n",
        "  Z1 = U1\n",
        "  Z2 = m*U2\n",
        "  while Z2 > (5*Z1**4+4*Z1**3+3*Z1**2+1)/4:\n",
        "    U1, U2 = np.random.rand(2)\n",
        "    Z1 = U1\n",
        "    Z2 = m*U2\n",
        "  return Z1"
      ]
    },
    {
      "cell_type": "code",
      "source": [
        "ar_generator(13/4)"
      ],
      "metadata": {
        "colab": {
          "base_uri": "https://localhost:8080/"
        },
        "id": "DMY583Qoo1Zz",
        "outputId": "815e02ad-4bb9-43d1-d872-c40dec55eb08"
      },
      "execution_count": null,
      "outputs": [
        {
          "output_type": "execute_result",
          "data": {
            "text/plain": [
              "0.8295721226882983"
            ]
          },
          "metadata": {},
          "execution_count": 11
        }
      ]
    },
    {
      "cell_type": "markdown",
      "metadata": {
        "id": "96QbSXGn9iU8"
      },
      "source": [
        "___\n",
        "**(b)** On average, how many samples from the uniform distribution over $[0, 1]$ would your acceptance-rejection algorithm need in order to generate one sample of $X$?\n",
        "___"
      ]
    },
    {
      "cell_type": "markdown",
      "source": [
        "### Ans.\n",
        "Expected number of point needed for a single accept is: \\\\\n",
        "Since $P(a\\ point\\ is\\ accepted) = \\frac{1}{M(b-a)}$ \\\\\n",
        "E[num needed] = M(b-a) \\\\\n",
        "Thus, in our case, it is $\\frac{13}{4}$."
      ],
      "metadata": {
        "id": "w64tpH0bO_Hb"
      }
    },
    {
      "cell_type": "markdown",
      "metadata": {
        "id": "YudPqIiq9iU9"
      },
      "source": [
        "___\n",
        "**(c)** Use your algorithm in (a) to generate 2,500 samples of $X$. Note that this will require more than 2500 uniform random variables.\n",
        "\n",
        "Plot a histogram of your sample   and compare it against the true pdf.\n",
        "___\n"
      ]
    },
    {
      "cell_type": "code",
      "source": [
        "X_var = [ar_generator(13/4)]\n",
        "while len(X_var) < 2500:\n",
        "  X_var.append(ar_generator(13/4))\n",
        "\n",
        "def true_pdf(x):\n",
        "    return (5*x**4 + 4*x**3+3*x**2+1)/4\n",
        "\n",
        "plt.hist(X_var, bins='auto', density=True, alpha=0.5, label='Generated Data')\n",
        "x = np.linspace(0, 1, 2500)\n",
        "plt.plot(x, true_pdf(x), 'r', label='True PDF')\n",
        "plt.legend()\n",
        "plt.xlabel('Random Variable Values')\n",
        "plt.ylabel('Probability Density')\n",
        "plt.title('Comparison with True PDF')\n",
        "plt.show()\n"
      ],
      "metadata": {
        "colab": {
          "base_uri": "https://localhost:8080/",
          "height": 472
        },
        "id": "aDMmGWx5rcbz",
        "outputId": "31c1db3c-78cc-4c21-a8d3-565a2d61ee54"
      },
      "execution_count": null,
      "outputs": [
        {
          "output_type": "display_data",
          "data": {
            "text/plain": [
              "<Figure size 640x480 with 1 Axes>"
            ],
            "image/png": "[encoded data removed]"
          },
          "metadata": {}
        }
      ]
    },
    {
      "cell_type": "markdown",
      "metadata": {
        "id": "zI57JDhK9iU_"
      },
      "source": [
        "___\n",
        "___\n",
        "\n",
        "## Question 4: Generalized Acceptance-Rejection (30 pts)\n",
        "\n",
        "We want to generate a $\\mathcal{N}(0,1)$ rv $X$, with pdf\n",
        "$f(x) = \\frac{e^{-x^2/2}}{\\sqrt{2\\pi}} $,\n",
        "using generalized acceptance-rejection."
      ]
    },
    {
      "cell_type": "markdown",
      "metadata": {
        "id": "ycCxosPw9iVA"
      },
      "source": [
        "___\n",
        "\n",
        "**(a)** First, suppose we choose the proposal distribution to be a \\emph{Laplace} (i.e., two-sided Exponential) distribution, which has pdf $g(x) = e^{-|x|}/2$. Describe (and implement) an inversion algorithm to get samples from this distribution.\n",
        "___"
      ]
    },
    {
      "cell_type": "markdown",
      "source": [
        "To generate samples from a Laplace distribution with probability density function (pdf) $g(x)=\\frac{1}{2} e^{-|x|}$.\n",
        "\n",
        "1. Generate a random variable $U$ from a uniform distribution in the range $(0,1)$.\n",
        "2. Apply the inverse transform method to $U$ to obtain a sample from the Laplace distribution.\n",
        "\n",
        "The CDF of the Laplace distribution is given by:\n",
        "$$\n",
        "F(x)= \\begin{cases}\\frac{1}{2} e^x & \\text { if } x<0 \\\\ 1-\\frac{1}{2} e^{-x} & \\text { if } x \\geq 0\\end{cases}\n",
        "$$\n",
        "\n",
        "Therefore, we can compute the inverse F functions as follows:\n",
        "\n",
        "$$\n",
        "F^{-1}(u)= \\begin{cases}\\ln (2 u) & \\text { if } u \\leq 0.5 \\\\ -\\ln (2(1-u)) & \\text { if } u>0.5\\end{cases}\n",
        "$$"
      ],
      "metadata": {
        "id": "Hvnz5ecPs76h"
      }
    },
    {
      "cell_type": "code",
      "execution_count": null,
      "metadata": {
        "id": "iUMdO2jTDC5n",
        "colab": {
          "base_uri": "https://localhost:8080/"
        },
        "outputId": "98e1908d-b1c3-4e1d-8eb4-a07481d2fc23"
      },
      "outputs": [
        {
          "output_type": "execute_result",
          "data": {
            "text/plain": [
              "array([ 0.12186877,  5.13856077,  3.40201123, -0.42833214,  0.33056923,\n",
              "       -0.65411938,  1.94827303,  0.3433858 ,  1.38034112, -2.94634033])"
            ]
          },
          "metadata": {},
          "execution_count": 21
        }
      ],
      "source": [
        "def laplace_inverse_transform(n):\n",
        "    U = np.random.rand(n)\n",
        "    samples = np.zeros(n)\n",
        "    for i in range(n):\n",
        "        u = U[i]\n",
        "        if u <= 0.5:\n",
        "            # Inverse transform for u <= 0.5\n",
        "            x = np.log(2 * u)\n",
        "        else:\n",
        "            # Inverse transform for u > 0.5\n",
        "            x = -np.log(2 * (1 - u))\n",
        "    return samples\n",
        "\n",
        "laplace_inverse_transform(10)"
      ]
    },
    {
      "cell_type": "markdown",
      "metadata": {
        "id": "w5uME6KO9iVB"
      },
      "source": [
        "___\n",
        "**(b)** Determine the smallest $k$ such that $kg(x)\\geq f(x)\\,\\forall\\,x\\in\\mathbb{R}$. Using this, propose (and implement) an acceptance-rejection algorithm for sampling $X\\sim\\mathcal{N}(0,1)$, and compute the expected number of samples needed for generating each sample.\n",
        "___"
      ]
    },
    {
      "cell_type": "markdown",
      "source": [
        "### Ans."
      ],
      "metadata": {
        "id": "ir7Iv6Guxp8I"
      }
    },
    {
      "cell_type": "markdown",
      "source": [
        "Descriptions: \\\\\n",
        "1: choose $k$ such that $k \\geq max_x [\\frac{f(x)}{g(x)}]$.\n",
        "\n",
        "2: sample $X$ from $g(x)$ (i.e. $X$ has pdf $g(x)$).\n",
        "\n",
        "3: if $f(x) \\leq k*g(x)$, then accept X; else, reject $X$ and generate new $X$ from $g(x)$.\n"
      ],
      "metadata": {
        "id": "qXuPmA07u0T3"
      }
    },
    {
      "cell_type": "markdown",
      "source": [
        "for $x \\leqslant 0$ :\n",
        "$$\n",
        "\\begin{aligned}\n",
        "& g(x)=\\frac{1}{2} e^x \\\\\n",
        "& \\max _{x \\leq 0} \\frac{f(x)}{g(x)}\\\\\n",
        "&=\\max _{x \\leq 0} \\frac{e^{-\\frac{x^2}{2}} / \\sqrt{2 \\pi}}{\\frac{1}{2} e^x} \\\\\n",
        "& =\\max _{x \\leq 0} \\frac{2}{\\sqrt{2 \\pi}} e^{-\\frac{x^2}{2}-x} \\\\\n",
        "& =\\frac{2}{\\sqrt{2 \\pi}} e^{-\\frac{1}{2}+1} \\\\\n",
        "& =1.3154 \\\\\n",
        "&\n",
        "\\end{aligned}\n",
        "$$\n",
        "for $x \\geqslant 0$ :\n",
        "$$\n",
        "\\begin{aligned}\n",
        "&g(x)=\\frac{1}{2} e^{-x} \\\\\n",
        "& \\max _{x \\geqslant 0} \\frac{f(x)}{g(x)}\\\\\n",
        "& =\\max _{x \\geqslant 0} \\frac{e^{-\\frac{x^2}{2}} / \\sqrt{2 \\pi}}{\\frac{1}{2} e^{-x}} \\\\\n",
        "& =\\max _{x \\geqslant 0} \\frac{2}{\\sqrt{2 \\pi}} e^{-\\frac{x^2}{2}+x} \\\\\n",
        "& =\\max _{x \\geqslant 0} \\frac{2}{\\sqrt{2 \\pi}} e^{-\\frac{x^2}{2}+x} \\\\\n",
        "& =\\frac{2}{\\sqrt{2 \\pi}} e^{1-\\frac{1}{2}}=\\frac{2}{\\sqrt{2 \\pi}} e^{\\frac{1}{2}}=1.3154\n",
        "\\end{aligned}\n",
        "$$"
      ],
      "metadata": {
        "id": "u5JsgdCQ1oES"
      }
    },
    {
      "cell_type": "code",
      "source": [
        "def laplace_inverse_transform(n):\n",
        "    U = np.random.rand(n)\n",
        "    samples = np.zeros(n)\n",
        "    for i in range(n):\n",
        "        u = U[i]\n",
        "        if u <= 0.5:\n",
        "            # Inverse transform for u <= 0.5\n",
        "            x = np.log(2 * u)\n",
        "        else:\n",
        "            # Inverse transform for u > 0.5\n",
        "            x = -np.log(2 * (1 - u))\n",
        "\n",
        "    return samples"
      ],
      "metadata": {
        "id": "0EKdku_M2Mxz"
      },
      "execution_count": null,
      "outputs": []
    },
    {
      "cell_type": "code",
      "source": [
        "# choose k = 2/np.sqrt(2*np.pi)*np.exp(1/2)\n",
        "def f(x):\n",
        "    return np.exp(-x**2/2) / np.sqrt(2*np.pi)\n",
        "\n",
        "def g(x):\n",
        "    return 0.5 * np.exp(-np.abs(x))\n",
        "\n",
        "def acceptance_rejection_sampling(n_samples):\n",
        "    samples = []\n",
        "    k = np.sqrt(2 / np.pi) * np.exp(0.5)\n",
        "    tmp = 0\n",
        "    # actually, we need to generate two random variables, first from g(), next from uniform distribution\n",
        "    while len(samples) < n_samples:\n",
        "        candidate = np.random.laplace(scale=1.0 / np.sqrt(2), size=1)[0]\n",
        "        if np.random.rand() <= f(candidate) / (k * g(candidate)):  # use uniformly distributed random variable as their decision criteria\n",
        "            samples.append(candidate)\n",
        "    return np.array(samples)\n"
      ],
      "metadata": {
        "id": "rh-yeW8T11X8"
      },
      "execution_count": 3,
      "outputs": []
    },
    {
      "cell_type": "markdown",
      "source": [
        "$P($ acceptance $)=\\int \\frac{f(x)}{k \\cdot g(x)} \\cdot g(x) d x$ = $\\frac{1}{k}$\n",
        "\n",
        "E[num needed ] = 1/$P($ acceptance $)$"
      ],
      "metadata": {
        "id": "kzaTqJzF8faV"
      }
    },
    {
      "cell_type": "code",
      "source": [
        "k = np.sqrt(2 / np.pi) * np.exp(0.5)\n",
        "print('the number needed is', k)"
      ],
      "metadata": {
        "colab": {
          "base_uri": "https://localhost:8080/"
        },
        "id": "xZkfsEy6BcoK",
        "outputId": "395eecaa-6b6b-4277-f5d2-24c6069144fb"
      },
      "execution_count": null,
      "outputs": [
        {
          "output_type": "stream",
          "name": "stdout",
          "text": [
            "the number needed is 1.315489246958914\n"
          ]
        }
      ]
    },
    {
      "cell_type": "markdown",
      "metadata": {
        "id": "8Uoi08eu9iVD"
      },
      "source": [
        "___\n",
        "**(c)** Generate $1000$ samples from your method in part (b), and plot the histogram of the samples. Also report the average and 95\\% CI for the number of $U[0,1]$ samples needed to generate the $1000$ samples.\n",
        "___"
      ]
    },
    {
      "cell_type": "code",
      "execution_count": 13,
      "metadata": {
        "id": "5qVDE0RTDMIZ"
      },
      "outputs": [],
      "source": [
        "def acceptance_rejection_sampling_modified(n_samples):\n",
        "    samples = []\n",
        "    k = np.sqrt(2 / np.pi) * np.exp(0.5)\n",
        "    uniform_samples_needed = []\n",
        "\n",
        "    while len(samples) < n_samples:\n",
        "        candidate = np.random.laplace(scale=1.0 / np.sqrt(2), size=1)[0]\n",
        "        tmp = np.random.rand()\n",
        "        uniform_samples_needed.append(1)\n",
        "\n",
        "        while tmp > f(candidate) / (k * g(candidate)):\n",
        "            candidate = np.random.laplace(scale=1.0 / np.sqrt(2), size=1)[0]\n",
        "            tmp = np.random.rand()\n",
        "            uniform_samples_needed[-1] += 1\n",
        "\n",
        "        samples.append(candidate)\n",
        "\n",
        "    return np.array(samples), uniform_samples_needed\n",
        "\n",
        "X, uni_needed = acceptance_rejection_sampling_modified(1000)"
      ]
    },
    {
      "cell_type": "code",
      "source": [
        "plt.hist(X, bins='auto', density=True, alpha=0.5, label='Generated Laplace Distribution Samples')"
      ],
      "metadata": {
        "colab": {
          "base_uri": "https://localhost:8080/",
          "height": 651
        },
        "id": "Z7VX6cbVC3U1",
        "outputId": "e819ca58-8238-4928-933e-9896167216c1"
      },
      "execution_count": 14,
      "outputs": [
        {
          "output_type": "execute_result",
          "data": {
            "text/plain": [
              "(array([0.00952584, 0.        , 0.01428876, 0.00952584, 0.01905167,\n",
              "        0.03810335, 0.05715502, 0.08096961, 0.09049545, 0.15717631,\n",
              "        0.23814592, 0.30006386, 0.42866266, 0.54773562, 0.42866266,\n",
              "        0.53820979, 0.39532223, 0.40961099, 0.32387846, 0.20004258,\n",
              "        0.15717631, 0.12383588, 0.04286627, 0.06668086, 0.03810335,\n",
              "        0.03810335, 0.00952584]),\n",
              " array([-3.19227436, -2.98231905, -2.77236374, -2.56240844, -2.35245313,\n",
              "        -2.14249783, -1.93254252, -1.72258722, -1.51263191, -1.30267661,\n",
              "        -1.0927213 , -0.88276599, -0.67281069, -0.46285538, -0.25290008,\n",
              "        -0.04294477,  0.16701053,  0.37696584,  0.58692114,  0.79687645,\n",
              "         1.00683176,  1.21678706,  1.42674237,  1.63669767,  1.84665298,\n",
              "         2.05660828,  2.26656359,  2.47651889]),\n",
              " <BarContainer object of 27 artists>)"
            ]
          },
          "metadata": {},
          "execution_count": 14
        },
        {
          "output_type": "display_data",
          "data": {
            "text/plain": [
              "<Figure size 640x480 with 1 Axes>"
            ],
            "image/png": "[encoded data removed]"
          },
          "metadata": {}
        }
      ]
    },
    {
      "cell_type": "code",
      "source": [
        "import scipy.stats as stats\n",
        "uni_needed = [x*1000 for x in uni_needed]\n",
        "average_uniform_samples = np.mean(uni_needed)\n",
        "ci = stats.t.interval(0.95, len(uni_needed) - 1, loc=np.mean(uni_needed), scale=stats.sem(uni_needed))\n",
        "print('mean number of uniformly distributed random variables is:', average_uniform_samples)\n",
        "print('Confidence Inerval is:', ci)"
      ],
      "metadata": {
        "colab": {
          "base_uri": "https://localhost:8080/"
        },
        "id": "aUEVtqHKDAgD",
        "outputId": "d9615d05-efe2-4171-e9d4-2cdc9317b079"
      },
      "execution_count": 15,
      "outputs": [
        {
          "output_type": "stream",
          "name": "stdout",
          "text": [
            "mean number of uniformly distributed random variables is: 1252.0\n",
            "Confidence Inerval is: (1216.6331394811616, 1287.3668605188384)\n"
          ]
        }
      ]
    },
    {
      "cell_type": "markdown",
      "metadata": {
        "id": "s7pvcQl7pgbx"
      },
      "source": [
        "___\n",
        "**(d)** Now, suppose instead we choose the proposal distribution to be a Cauchy  distribution with pdf $g(x) = \\frac{1}{\\pi(1+x^2)}$. Describe and implement an inversion algorithm to get samples from this distribution, and plot the histogram of 1000 samples from this distribution.\n",
        "___"
      ]
    },
    {
      "cell_type": "code",
      "execution_count": null,
      "metadata": {
        "id": "XepRuz8MpqoG",
        "colab": {
          "base_uri": "https://localhost:8080/",
          "height": 447
        },
        "outputId": "a16c8f79-bba0-4d7e-e75d-65e060711aab"
      },
      "outputs": [
        {
          "output_type": "execute_result",
          "data": {
            "text/plain": [
              "(-15.0, 15.0)"
            ]
          },
          "metadata": {},
          "execution_count": 58
        },
        {
          "output_type": "display_data",
          "data": {
            "text/plain": [
              "<Figure size 640x480 with 1 Axes>"
            ],
            "image/png": "[encoded data removed]"
          },
          "metadata": {}
        }
      ],
      "source": [
        "import numpy as np\n",
        "import matplotlib.pyplot as plt\n",
        "\n",
        "# Inverse CDF (quantile function) of the Cauchy distribution\n",
        "def cauchy_inverse_cdf(y):\n",
        "    return np.tan(np.pi * (y - 0.5))\n",
        "\n",
        "# Number of samples to generate\n",
        "n_samples = 1000\n",
        "\n",
        "# Generate uniform random numbers in the range (0, 1)\n",
        "uniform_samples = np.random.rand(n_samples)\n",
        "\n",
        "# Use the inverse CDF to transform uniform samples to Cauchy samples\n",
        "cauchy_samples = cauchy_inverse_cdf(uniform_samples)\n",
        "\n",
        "# Plot the histogram of Cauchy samples\n",
        "plt.hist(cauchy_samples, bins='auto', density=True, alpha=0.5, label='Cauchy Samples')\n",
        "plt.xlim(-15, 15)\n",
        "# x = np.linspace(-10, 10, 1000)  # Range for the PDF plot\n",
        "# pdf = 1 / (np.pi * (1 + x**2))  # PDF of the Cauchy distribution\n",
        "# plt.plot(x, pdf, 'r', label='Cauchy PDF')\n",
        "# plt.legend()\n",
        "# plt.xlabel('Random Variable Values')\n",
        "# plt.ylabel('Probability Density')\n",
        "# plt.title('Histogram of Cauchy Samples')\n",
        "# plt.show()\n"
      ]
    },
    {
      "cell_type": "markdown",
      "metadata": {
        "id": "lC7VSz_n9iVF"
      },
      "source": [
        "___\n",
        "**(e)** Repeat parts $(b)$ and $(c)$ for this proposal distribution.\n",
        "___"
      ]
    },
    {
      "cell_type": "markdown",
      "source": [
        "### Ans."
      ],
      "metadata": {
        "id": "vFu541LlPzQ2"
      }
    },
    {
      "cell_type": "code",
      "execution_count": 16,
      "metadata": {
        "id": "uzJE8B1ZsWoV",
        "colab": {
          "base_uri": "https://localhost:8080/"
        },
        "outputId": "f8498d6d-f2e1-4a05-8b52-c34969a2edc0"
      },
      "outputs": [
        {
          "output_type": "stream",
          "name": "stdout",
          "text": [
            "Optimal k: 1.3154892469290824\n"
          ]
        }
      ],
      "source": [
        "# firstly, recompute the value of k\n",
        "import numpy as np\n",
        "from scipy.optimize import minimize\n",
        "\n",
        "def f(x):\n",
        "    return np.exp(-x**2/2) / np.sqrt(2*np.pi)\n",
        "\n",
        "def g2(x):\n",
        "    return 1 / (np.pi * (1 + x**2))\n",
        "\n",
        "result = minimize(lambda x: -f(x)/g(x), x0=0)\n",
        "k = -result.fun\n",
        "\n",
        "print(\"Optimal k:\", k)\n"
      ]
    },
    {
      "cell_type": "code",
      "source": [
        "#cauchy_samples = np.random.standard_cauchy(1000)\n",
        "def acceptance_rejection_sampling(n_samples, k):\n",
        "    samples = []\n",
        "    k = k\n",
        "    tmp = 0\n",
        "    # actually, we need to generate two random variables, first from g(), next from uniform distribution\n",
        "    while len(samples) < n_samples:\n",
        "        candidate = np.random.standard_cauchy(1)\n",
        "        if np.random.rand() <= f(candidate) / (k * g2(candidate)):  # use uniformly distributed random variable as their decision criteria\n",
        "            samples.append(candidate)\n",
        "    return np.array(samples)"
      ],
      "metadata": {
        "id": "fcmo0pH3SnVT"
      },
      "execution_count": 17,
      "outputs": []
    },
    {
      "cell_type": "code",
      "source": [
        "acceptance_rejection_sampling(1, 1.253)"
      ],
      "metadata": {
        "colab": {
          "base_uri": "https://localhost:8080/"
        },
        "id": "1_lytd60VJJR",
        "outputId": "de835b0c-b3da-4640-dc98-ac921ac43909"
      },
      "execution_count": 18,
      "outputs": [
        {
          "output_type": "execute_result",
          "data": {
            "text/plain": [
              "array([[-0.31671915]])"
            ]
          },
          "metadata": {},
          "execution_count": 18
        }
      ]
    },
    {
      "cell_type": "markdown",
      "source": [
        "$P($ acceptance $)=\\int \\frac{f(x)}{k \\cdot g(x)} \\cdot g(x) d x$ = $\\frac{1}{k}$\n",
        "\n",
        "E[num needed ] = 1/P($ acceptance $)"
      ],
      "metadata": {
        "id": "vV-8iiz4VUBe"
      }
    },
    {
      "cell_type": "code",
      "source": [
        "k = k\n",
        "print('the number needed is', k)"
      ],
      "metadata": {
        "colab": {
          "base_uri": "https://localhost:8080/"
        },
        "id": "oMGXAnL9VOO6",
        "outputId": "9b666954-b4a5-43b4-b219-7d7dc9d4e1a4"
      },
      "execution_count": 19,
      "outputs": [
        {
          "output_type": "stream",
          "name": "stdout",
          "text": [
            "the number needed is 1.3154892469290824\n"
          ]
        }
      ]
    },
    {
      "cell_type": "code",
      "source": [
        "def acceptance_rejection_sampling_modified(n_samples):\n",
        "    samples = []\n",
        "    k = np.sqrt(2 / np.pi) * np.exp(0.5)\n",
        "    uniform_samples_needed = []\n",
        "\n",
        "    while len(samples) < n_samples:\n",
        "        candidate = np.random.standard_cauchy(1)\n",
        "        tmp = np.random.rand()\n",
        "        uniform_samples_needed.append(1)\n",
        "\n",
        "        while tmp > f(candidate) / (k * g2(candidate)):\n",
        "            candidate = np.random.standard_cauchy(1)\n",
        "            tmp = np.random.rand()\n",
        "            uniform_samples_needed[-1] += 1\n",
        "\n",
        "        samples.append(candidate)\n",
        "\n",
        "    return np.array(samples), uniform_samples_needed\n",
        "\n",
        "X, uni_needed = acceptance_rejection_sampling_modified(1000)"
      ],
      "metadata": {
        "id": "olMA2xhaVals"
      },
      "execution_count": 20,
      "outputs": []
    },
    {
      "cell_type": "code",
      "source": [
        "plt.hist(X, bins='auto', density=True, alpha=0.5, label='Generated Cauchy Distribution Samples')"
      ],
      "metadata": {
        "colab": {
          "base_uri": "https://localhost:8080/",
          "height": 651
        },
        "id": "baQVddywVk8y",
        "outputId": "1ce5043f-079b-4adb-b193-3d3b11537bdd"
      },
      "execution_count": 21,
      "outputs": [
        {
          "output_type": "execute_result",
          "data": {
            "text/plain": [
              "(array([0.00392149, 0.        , 0.00392149, 0.01960745, 0.01568596,\n",
              "        0.02352894, 0.07058681, 0.11764468, 0.15685957, 0.18430999,\n",
              "        0.23921084, 0.31764063, 0.39607041, 0.37254147, 0.44704977,\n",
              "        0.34509105, 0.30587616, 0.24313233, 0.22744637, 0.13333063,\n",
              "        0.12548765, 0.09803723, 0.02745042, 0.01568596, 0.02745042,\n",
              "        0.        , 0.        , 0.        , 0.00392149]),\n",
              " array([-3.53189459, -3.27688943, -3.02188426, -2.7668791 , -2.51187393,\n",
              "        -2.25686877, -2.0018636 , -1.74685844, -1.49185327, -1.23684811,\n",
              "        -0.98184294, -0.72683778, -0.47183262, -0.21682745,  0.03817771,\n",
              "         0.29318288,  0.54818804,  0.80319321,  1.05819837,  1.31320354,\n",
              "         1.5682087 ,  1.82321387,  2.07821903,  2.33322419,  2.58822936,\n",
              "         2.84323452,  3.09823969,  3.35324485,  3.60825002,  3.86325518]),\n",
              " <BarContainer object of 29 artists>)"
            ]
          },
          "metadata": {},
          "execution_count": 21
        },
        {
          "output_type": "display_data",
          "data": {
            "text/plain": [
              "<Figure size 640x480 with 1 Axes>"
            ],
            "image/png": "[encoded data removed]"
          },
          "metadata": {}
        }
      ]
    },
    {
      "cell_type": "code",
      "source": [
        "import scipy.stats as stats\n",
        "uni_needed = [x*1000 for x in uni_needed]\n",
        "average_uniform_samples = np.mean(uni_needed)\n",
        "ci = stats.t.interval(0.95, len(uni_needed) - 1, loc=np.mean(uni_needed), scale=stats.sem(uni_needed))\n",
        "print('mean number of uniformly distributed random variables is:', average_uniform_samples)\n",
        "print('Confidence Inerval is:', ci)"
      ],
      "metadata": {
        "colab": {
          "base_uri": "https://localhost:8080/"
        },
        "id": "lBC4rkPgVoD3",
        "outputId": "858ed863-dd4f-492e-a308-056e73d974a1"
      },
      "execution_count": 22,
      "outputs": [
        {
          "output_type": "stream",
          "name": "stdout",
          "text": [
            "mean number of uniformly distributed random variables is: 1405.0\n",
            "Confidence Inerval is: (1354.6770308283508, 1455.3229691716492)\n"
          ]
        }
      ]
    }
  ],
  "metadata": {
    "colab": {
      "provenance": []
    },
    "kernelspec": {
      "display_name": "Python 3",
      "language": "python",
      "name": "python3"
    },
    "language_info": {
      "codemirror_mode": {
        "name": "ipython",
        "version": 3
      },
      "file_extension": ".py",
      "mimetype": "text/x-python",
      "name": "python",
      "nbconvert_exporter": "python",
      "pygments_lexer": "ipython3",
      "version": "3.7.9"
    }
  },
  "nbformat": 4,
  "nbformat_minor": 0
}